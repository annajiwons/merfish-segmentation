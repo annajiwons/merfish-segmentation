{
 "cells": [
  {
   "cell_type": "code",
   "execution_count": 1,
   "id": "varied-company",
   "metadata": {},
   "outputs": [],
   "source": [
    "import sys\n",
    "sys.path.append('../')\n",
    "\n",
    "from cellpose import io, models"
   ]
  },
  {
   "cell_type": "code",
   "execution_count": 2,
   "id": "twelve-providence",
   "metadata": {},
   "outputs": [],
   "source": [
    "image_dir = f'/storage/annajiwons/images'\n",
    "merfish_dir = f'{image_dir}/u2os_cellpose/train'\n",
    "\n",
    "model_dir = './models'"
   ]
  },
  {
   "cell_type": "code",
   "execution_count": 3,
   "id": "overhead-grammar",
   "metadata": {},
   "outputs": [],
   "source": [
    "output = io.load_train_test_data(merfish_dir, mask_filter = '_mask')\n",
    "X, Y, X_names, test_images, test_labels, image_names_test = output"
   ]
  },
  {
   "cell_type": "code",
   "execution_count": 8,
   "id": "available-yield",
   "metadata": {},
   "outputs": [
    {
     "name": "stdout",
     "output_type": "stream",
     "text": [
      ">>>> using CPU\n",
      "Running test snippet to check if MKL-DNN working\n",
      "see https://pytorch.org/docs/stable/backends.html?highlight=mkl\n",
      "** MKL version working - CPU version is sped up. **\n"
     ]
    }
   ],
   "source": [
    "model = models.CellposeModel(pretrained_model = None, diam_mean = 17)"
   ]
  },
  {
   "cell_type": "code",
   "execution_count": 9,
   "id": "numerical-plasma",
   "metadata": {},
   "outputs": [
    {
     "name": "stderr",
     "output_type": "stream",
     "text": [
      "  0%|          | 0/26 [00:00<?, ?it/s]"
     ]
    },
    {
     "name": "stdout",
     "output_type": "stream",
     "text": [
      "NOTE: test data not provided OR labels incorrect OR not same number of channels as train data\n",
      "NOTE: computing flows for labels (could be done before to save time)\n"
     ]
    },
    {
     "name": "stderr",
     "output_type": "stream",
     "text": [
      "100%|██████████| 26/26 [11:41<00:00, 26.97s/it]\n"
     ]
    },
    {
     "name": "stdout",
     "output_type": "stream",
     "text": [
      ">>>> training network with 2 channel input <<<<\n",
      ">>>> saving every 100 epochs\n",
      ">>>> median diameter = 17\n",
      ">>>> LR: 0.00030, batch_size: 4, weight_decay: 0.00001\n",
      ">>>> ntrain = 26\n",
      "(2, 2160, 2560)\n",
      "Epoch 0, Time 66.5s, Loss 0.8228, LR 0.0000\n",
      "Epoch 1, Time 122.9s, Loss 0.8176, LR 0.0000\n",
      "saving network parameters\n",
      "Epoch 2, Time 187.2s, Loss 0.8002, LR 0.0001\n",
      "Epoch 3, Time 248.0s, Loss 0.7776, LR 0.0001\n",
      "Epoch 4, Time 310.9s, Loss 0.7503, LR 0.0001\n",
      "Epoch 5, Time 365.8s, Loss 0.7243, LR 0.0002\n",
      "Epoch 6, Time 427.5s, Loss 0.6977, LR 0.0002\n",
      "Epoch 7, Time 488.3s, Loss 0.6809, LR 0.0002\n",
      "Epoch 8, Time 545.9s, Loss 0.6529, LR 0.0003\n",
      "Epoch 9, Time 587.8s, Loss 0.6344, LR 0.0003\n",
      "Epoch 10, Time 642.7s, Loss 0.6147, LR 0.0003\n",
      "Epoch 20, Time 1125.0s, Loss 0.5029, LR 0.0003\n",
      "Epoch 30, Time 1546.9s, Loss 0.3695, LR 0.0003\n",
      "Epoch 40, Time 1954.8s, Loss 0.2854, LR 0.0003\n",
      "Epoch 50, Time 2361.1s, Loss 0.2289, LR 0.0003\n",
      "Epoch 60, Time 2787.1s, Loss 0.1909, LR 0.0003\n",
      "Epoch 70, Time 3221.2s, Loss 0.1611, LR 0.0003\n",
      "Epoch 80, Time 3637.9s, Loss 0.1387, LR 0.0003\n",
      "Epoch 90, Time 4041.2s, Loss 0.1222, LR 0.0003\n",
      "Epoch 100, Time 4457.0s, Loss 0.1085, LR 0.0003\n",
      "saving network parameters\n",
      "Epoch 110, Time 4901.0s, Loss 0.0978, LR 0.0003\n",
      "Epoch 120, Time 5322.9s, Loss 0.0899, LR 0.0003\n",
      "Epoch 130, Time 5746.5s, Loss 0.0830, LR 0.0003\n",
      "Epoch 140, Time 6154.8s, Loss 0.0767, LR 0.0003\n",
      "Epoch 150, Time 6541.0s, Loss 0.0718, LR 0.0003\n",
      "Epoch 160, Time 6882.2s, Loss 0.0673, LR 0.0003\n",
      "Epoch 170, Time 7239.3s, Loss 0.0639, LR 0.0003\n",
      "Epoch 180, Time 7565.1s, Loss 0.0605, LR 0.0003\n",
      "Epoch 190, Time 7924.0s, Loss 0.0573, LR 0.0003\n",
      "Epoch 200, Time 8314.2s, Loss 0.0553, LR 0.0003\n",
      "saving network parameters\n",
      "Epoch 210, Time 8735.8s, Loss 0.0519, LR 0.0001\n",
      "Epoch 220, Time 9133.4s, Loss 0.0511, LR 0.0001\n",
      "Epoch 230, Time 9503.0s, Loss 0.0501, LR 0.0000\n",
      "Epoch 240, Time 9858.1s, Loss 0.0493, LR 0.0000\n",
      "Epoch 250, Time 10240.7s, Loss 0.0490, LR 0.0000\n",
      "Epoch 260, Time 10637.3s, Loss 0.0494, LR 0.0000\n",
      "Epoch 270, Time 10993.6s, Loss 0.0497, LR 0.0000\n",
      "Epoch 280, Time 11378.2s, Loss 0.0494, LR 0.0000\n",
      "Epoch 290, Time 11760.3s, Loss 0.0492, LR 0.0000\n",
      "saving network parameters\n"
     ]
    },
    {
     "data": {
      "text/plain": [
       "'./models/models/cellpose_residual_on_style_on_concatenation_off_models_2021_04_03_02_40_20.834557'"
      ]
     },
     "execution_count": 9,
     "metadata": {},
     "output_type": "execute_result"
    }
   ],
   "source": [
    "model.train(X, Y, train_files = X_names, channels = [0,0], save_path = model_dir, \n",
    "            learning_rate = 0.0003, n_epochs = 300, batch_size = 4)"
   ]
  },
  {
   "cell_type": "code",
   "execution_count": null,
   "id": "vertical-advancement",
   "metadata": {},
   "outputs": [],
   "source": []
  }
 ],
 "metadata": {
  "kernelspec": {
   "display_name": "merfish_seg",
   "language": "python",
   "name": "merfish_seg"
  },
  "language_info": {
   "codemirror_mode": {
    "name": "ipython",
    "version": 3
   },
   "file_extension": ".py",
   "mimetype": "text/x-python",
   "name": "python",
   "nbconvert_exporter": "python",
   "pygments_lexer": "ipython3",
   "version": "3.8.5"
  }
 },
 "nbformat": 4,
 "nbformat_minor": 5
}
